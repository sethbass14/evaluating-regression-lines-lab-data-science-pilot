{
 "cells": [
  {
   "cell_type": "markdown",
   "metadata": {},
   "source": [
    "# Evaluating Regression Lines Lab"
   ]
  },
  {
   "cell_type": "markdown",
   "metadata": {},
   "source": [
    "### Introduction"
   ]
  },
  {
   "cell_type": "markdown",
   "metadata": {},
   "source": [
    "In the previous lesson, we learned to evaluate how well a regression line estimated our actual data.  In this lab, we will turn these formulas into code.  In doing so, we'll build lots of useful functions for both calculating and displaying our errors for a given regression line and dataset.   We'll have access to our [graph](https://github.com/learn-co-curriculum/evaluating-regression-lines-lab/blob/master/graph.py) library and our [linear equations](https://github.com/learn-co-curriculum/evaluating-regression-lines-lab/blob/master/linear_equations.py) library as we work through these tasks."
   ]
  },
  {
   "cell_type": "markdown",
   "metadata": {},
   "source": [
    "### Determining Quality"
   ]
  },
  {
   "cell_type": "markdown",
   "metadata": {},
   "source": [
    "In the file, `movie_data.py` you will find movie data written as a python list of dictionaries, with each dictionary representing a movie.  The movies are derived from the first 30 entries from the 538 dataset [provided here](https://raw.githubusercontent.com/fivethirtyeight/data/master/bechdel/movies.csv)."
   ]
  },
  {
   "cell_type": "code",
   "execution_count": 28,
   "metadata": {},
   "outputs": [
    {
     "data": {
      "text/plain": [
       "30"
      ]
     },
     "execution_count": 28,
     "metadata": {},
     "output_type": "execute_result"
    }
   ],
   "source": [
    "from movie_data import movies \n",
    "len(movies)"
   ]
  },
  {
   "cell_type": "code",
   "execution_count": 5,
   "metadata": {},
   "outputs": [
    {
     "data": {
      "text/plain": [
       "{'budget': 13000000, 'domgross': 25682380.0, 'title': '21 &amp; Over'}"
      ]
     },
     "execution_count": 5,
     "metadata": {},
     "output_type": "execute_result"
    }
   ],
   "source": [
    "movies[0]"
   ]
  },
  {
   "cell_type": "markdown",
   "metadata": {
    "collapsed": true
   },
   "source": [
    "Note that like in previous lessons, we are still referencing a budget as our `x_values` or explanatory value and our revenue as our ouput.  Here revenue is represented as the key `domgross`.  First, convert the explanatory budget values to `x_values`, and convert the domgross values to `y_values`."
   ]
  },
  {
   "cell_type": "code",
   "execution_count": 6,
   "metadata": {},
   "outputs": [],
   "source": [
    "def build_x_values(movies):\n",
    "    return list(map(lambda movie: movie['budget'], movies))\n",
    "    pass"
   ]
  },
  {
   "cell_type": "code",
   "execution_count": 7,
   "metadata": {},
   "outputs": [],
   "source": [
    "x_values = build_x_values(movies) or ['implement']"
   ]
  },
  {
   "cell_type": "code",
   "execution_count": 8,
   "metadata": {},
   "outputs": [
    {
     "data": {
      "text/plain": [
       "13000000"
      ]
     },
     "execution_count": 8,
     "metadata": {},
     "output_type": "execute_result"
    }
   ],
   "source": [
    "x_values[0] #  13000000"
   ]
  },
  {
   "cell_type": "code",
   "execution_count": 9,
   "metadata": {},
   "outputs": [],
   "source": [
    "def build_y_values(movies):\n",
    "    return list(map(lambda movie: movie['domgross'], movies))\n",
    "    pass"
   ]
  },
  {
   "cell_type": "code",
   "execution_count": 10,
   "metadata": {},
   "outputs": [],
   "source": [
    "y_values = build_y_values(movies) or ['implement']"
   ]
  },
  {
   "cell_type": "code",
   "execution_count": 11,
   "metadata": {},
   "outputs": [
    {
     "data": {
      "text/plain": [
       "25682380.0"
      ]
     },
     "execution_count": 11,
     "metadata": {},
     "output_type": "execute_result"
    }
   ],
   "source": [
    "y_values[0] # 25682380.0"
   ]
  },
  {
   "cell_type": "markdown",
   "metadata": {},
   "source": [
    "Assign a variable called `titles` equal to the titles of the movies."
   ]
  },
  {
   "cell_type": "code",
   "execution_count": 12,
   "metadata": {},
   "outputs": [],
   "source": [
    "def build_titles(movies):\n",
    "    return list(map(lambda movie: movie['title'], movies))\n",
    "    pass"
   ]
  },
  {
   "cell_type": "code",
   "execution_count": 30,
   "metadata": {},
   "outputs": [],
   "source": [
    "titles = build_titles(movies) or ['implement']"
   ]
  },
  {
   "cell_type": "code",
   "execution_count": 18,
   "metadata": {},
   "outputs": [
    {
     "data": {
      "text/plain": [
       "'21 &amp; Over'"
      ]
     },
     "execution_count": 18,
     "metadata": {},
     "output_type": "execute_result"
    }
   ],
   "source": [
    "titles[0] # '21 &amp; Over'"
   ]
  },
  {
   "cell_type": "markdown",
   "metadata": {},
   "source": [
    "For the dataset, let's use the following regression formula: $\\overline{y} = \\overline{m} x + \\overline{b}$, with $\\overline{m} = 1.7$, and $\\overline{y} = 100,000$.  Write a function called `regression_formula` that calculates our $\\overline{y}$ for any provided value of $x$. "
   ]
  },
  {
   "cell_type": "code",
   "execution_count": 13,
   "metadata": {},
   "outputs": [],
   "source": [
    "def regression_formula(x):\n",
    "    return 1.7 * x + 100000\n",
    "    pass"
   ]
  },
  {
   "cell_type": "code",
   "execution_count": 22,
   "metadata": {},
   "outputs": [
    {
     "data": {
      "text/plain": [
       "525000.0"
      ]
     },
     "execution_count": 22,
     "metadata": {},
     "output_type": "execute_result"
    }
   ],
   "source": [
    "regression_formula(100000) # 270000.0\n",
    "regression_formula(250000) # 525000.0"
   ]
  },
  {
   "cell_type": "markdown",
   "metadata": {},
   "source": [
    "Let's plot the data as well as the regression line to get a sense of what we are looking at.  We can make use of the [graph.py](https://github.com/learn-co-curriculum/evaluating-regression-lines-lab/blob/master/graph.py) library, that we wrote earlier."
   ]
  },
  {
   "cell_type": "code",
   "execution_count": 31,
   "metadata": {},
   "outputs": [
    {
     "data": {
      "text/html": [
       "<script>requirejs.config({paths: { 'plotly': ['https://cdn.plot.ly/plotly-latest.min']},});if(!window.Plotly) {{require(['plotly'],function(plotly) {window.Plotly=plotly;});}}</script>"
      ],
      "text/vnd.plotly.v1+html": [
       "<script>requirejs.config({paths: { 'plotly': ['https://cdn.plot.ly/plotly-latest.min']},});if(!window.Plotly) {{require(['plotly'],function(plotly) {window.Plotly=plotly;});}}</script>"
      ]
     },
     "metadata": {},
     "output_type": "display_data"
    },
    {
     "data": {
      "application/vnd.plotly.v1+json": {
       "data": [
        {
         "mode": "markers",
         "name": "movie data",
         "text": [
          "21 &amp; Over",
          "Dredd 3D",
          "12 Years a Slave",
          "2 Guns",
          "42",
          "47 Ronin",
          "A Good Day to Die Hard",
          "About Time",
          "Admission",
          "After Earth",
          "American Hustle",
          "August: Osage County",
          "Beautiful Creatures",
          "Blue Jasmine",
          "Captain Phillips",
          "Carrie",
          "Cloudy with a Chance of Meatballs 2",
          "Despicable Me 2",
          "Don Jon",
          "Elysium",
          "Ender&#39;s Game",
          "Epic",
          "Escape from Planet Earth",
          "Escape Plan",
          "Evil Dead",
          "Fast and Furious 6",
          "Frozen",
          "G.I. Joe: Retaliation",
          "Gangster Squad",
          "Gloria"
         ],
         "x": [
          13000000,
          45658735,
          20000000,
          61000000,
          40000000,
          225000000,
          92000000,
          12000000,
          13000000,
          130000000,
          40000000,
          25000000,
          50000000,
          18000000,
          55000000,
          30000000,
          78000000,
          76000000,
          5500000,
          120000000,
          110000000,
          100000000,
          40000000,
          70000000,
          17000000,
          160000000,
          150000000,
          140000000,
          60000000,
          30000000
         ],
         "y": [
          25682380,
          13414714,
          53107035,
          75612460,
          95020213,
          38362475,
          67349198,
          15323921,
          18007317,
          60522097,
          148430908,
          37304874,
          19452138,
          33345833,
          107136417,
          35266619,
          119640264,
          368065385,
          24477704,
          93050117,
          61737191,
          107518682,
          57012977,
          25213103,
          54239856,
          238679850,
          393050114,
          122523060,
          46000903,
          4167493
         ]
        },
        {
         "mode": "line",
         "name": "estimated revenue",
         "x": [
          13000000,
          45658735,
          20000000,
          61000000,
          40000000,
          225000000,
          92000000,
          12000000,
          13000000,
          130000000,
          40000000,
          25000000,
          50000000,
          18000000,
          55000000,
          30000000,
          78000000,
          76000000,
          5500000,
          120000000,
          110000000,
          100000000,
          40000000,
          70000000,
          17000000,
          160000000,
          150000000,
          140000000,
          60000000,
          30000000
         ],
         "y": [
          22200000,
          77719849.5,
          34100000,
          103800000,
          68100000,
          382600000,
          156500000,
          20500000,
          22200000,
          221100000,
          68100000,
          42600000,
          85100000,
          30700000,
          93600000,
          51100000,
          132700000,
          129300000,
          9450000,
          204100000,
          187100000,
          170100000,
          68100000,
          119100000,
          29000000,
          272100000,
          255100000,
          238100000,
          102100000,
          51100000
         ]
        }
       ],
       "layout": {}
      },
      "text/html": [
       "<div id=\"e6d0e6cd-f043-45b4-bc7c-9e27d760e3d0\" style=\"height: 525px; width: 100%;\" class=\"plotly-graph-div\"></div><script type=\"text/javascript\">require([\"plotly\"], function(Plotly) { window.PLOTLYENV=window.PLOTLYENV || {};window.PLOTLYENV.BASE_URL=\"https://plot.ly\";Plotly.newPlot(\"e6d0e6cd-f043-45b4-bc7c-9e27d760e3d0\", [{\"x\": [13000000, 45658735, 20000000, 61000000, 40000000, 225000000, 92000000, 12000000, 13000000, 130000000, 40000000, 25000000, 50000000, 18000000, 55000000, 30000000, 78000000, 76000000, 5500000, 120000000, 110000000, 100000000, 40000000, 70000000, 17000000, 160000000, 150000000, 140000000, 60000000, 30000000], \"y\": [25682380.0, 13414714.0, 53107035.0, 75612460.0, 95020213.0, 38362475.0, 67349198.0, 15323921.0, 18007317.0, 60522097.0, 148430908.0, 37304874.0, 19452138.0, 33345833.0, 107136417.0, 35266619.0, 119640264.0, 368065385.0, 24477704.0, 93050117.0, 61737191.0, 107518682.0, 57012977.0, 25213103.0, 54239856.0, 238679850.0, 393050114.0, 122523060.0, 46000903.0, 4167493.0], \"mode\": \"markers\", \"name\": \"movie data\", \"text\": [\"21 &amp; Over\", \"Dredd 3D\", \"12 Years a Slave\", \"2 Guns\", \"42\", \"47 Ronin\", \"A Good Day to Die Hard\", \"About Time\", \"Admission\", \"After Earth\", \"American Hustle\", \"August: Osage County\", \"Beautiful Creatures\", \"Blue Jasmine\", \"Captain Phillips\", \"Carrie\", \"Cloudy with a Chance of Meatballs 2\", \"Despicable Me 2\", \"Don Jon\", \"Elysium\", \"Ender&#39;s Game\", \"Epic\", \"Escape from Planet Earth\", \"Escape Plan\", \"Evil Dead\", \"Fast and Furious 6\", \"Frozen\", \"G.I. Joe: Retaliation\", \"Gangster Squad\", \"Gloria\"]}, {\"x\": [13000000, 45658735, 20000000, 61000000, 40000000, 225000000, 92000000, 12000000, 13000000, 130000000, 40000000, 25000000, 50000000, 18000000, 55000000, 30000000, 78000000, 76000000, 5500000, 120000000, 110000000, 100000000, 40000000, 70000000, 17000000, 160000000, 150000000, 140000000, 60000000, 30000000], \"y\": [22200000.0, 77719849.5, 34100000.0, 103800000.0, 68100000.0, 382600000.0, 156500000.0, 20500000.0, 22200000.0, 221100000.0, 68100000.0, 42600000.0, 85100000.0, 30700000.0, 93600000.0, 51100000.0, 132700000.0, 129300000.0, 9450000.0, 204100000.0, 187100000.0, 170100000.0, 68100000.0, 119100000.0, 29000000.0, 272100000.0, 255100000.0, 238100000.0, 102100000.0, 51100000.0], \"mode\": \"line\", \"name\": \"estimated revenue\"}], {}, {\"showLink\": true, \"linkText\": \"Export to plot.ly\"})});</script>"
      ],
      "text/vnd.plotly.v1+html": [
       "<div id=\"e6d0e6cd-f043-45b4-bc7c-9e27d760e3d0\" style=\"height: 525px; width: 100%;\" class=\"plotly-graph-div\"></div><script type=\"text/javascript\">require([\"plotly\"], function(Plotly) { window.PLOTLYENV=window.PLOTLYENV || {};window.PLOTLYENV.BASE_URL=\"https://plot.ly\";Plotly.newPlot(\"e6d0e6cd-f043-45b4-bc7c-9e27d760e3d0\", [{\"x\": [13000000, 45658735, 20000000, 61000000, 40000000, 225000000, 92000000, 12000000, 13000000, 130000000, 40000000, 25000000, 50000000, 18000000, 55000000, 30000000, 78000000, 76000000, 5500000, 120000000, 110000000, 100000000, 40000000, 70000000, 17000000, 160000000, 150000000, 140000000, 60000000, 30000000], \"y\": [25682380.0, 13414714.0, 53107035.0, 75612460.0, 95020213.0, 38362475.0, 67349198.0, 15323921.0, 18007317.0, 60522097.0, 148430908.0, 37304874.0, 19452138.0, 33345833.0, 107136417.0, 35266619.0, 119640264.0, 368065385.0, 24477704.0, 93050117.0, 61737191.0, 107518682.0, 57012977.0, 25213103.0, 54239856.0, 238679850.0, 393050114.0, 122523060.0, 46000903.0, 4167493.0], \"mode\": \"markers\", \"name\": \"movie data\", \"text\": [\"21 &amp; Over\", \"Dredd 3D\", \"12 Years a Slave\", \"2 Guns\", \"42\", \"47 Ronin\", \"A Good Day to Die Hard\", \"About Time\", \"Admission\", \"After Earth\", \"American Hustle\", \"August: Osage County\", \"Beautiful Creatures\", \"Blue Jasmine\", \"Captain Phillips\", \"Carrie\", \"Cloudy with a Chance of Meatballs 2\", \"Despicable Me 2\", \"Don Jon\", \"Elysium\", \"Ender&#39;s Game\", \"Epic\", \"Escape from Planet Earth\", \"Escape Plan\", \"Evil Dead\", \"Fast and Furious 6\", \"Frozen\", \"G.I. Joe: Retaliation\", \"Gangster Squad\", \"Gloria\"]}, {\"x\": [13000000, 45658735, 20000000, 61000000, 40000000, 225000000, 92000000, 12000000, 13000000, 130000000, 40000000, 25000000, 50000000, 18000000, 55000000, 30000000, 78000000, 76000000, 5500000, 120000000, 110000000, 100000000, 40000000, 70000000, 17000000, 160000000, 150000000, 140000000, 60000000, 30000000], \"y\": [22200000.0, 77719849.5, 34100000.0, 103800000.0, 68100000.0, 382600000.0, 156500000.0, 20500000.0, 22200000.0, 221100000.0, 68100000.0, 42600000.0, 85100000.0, 30700000.0, 93600000.0, 51100000.0, 132700000.0, 129300000.0, 9450000.0, 204100000.0, 187100000.0, 170100000.0, 68100000.0, 119100000.0, 29000000.0, 272100000.0, 255100000.0, 238100000.0, 102100000.0, 51100000.0], \"mode\": \"line\", \"name\": \"estimated revenue\"}], {}, {\"showLink\": true, \"linkText\": \"Export to plot.ly\"})});</script>"
      ]
     },
     "metadata": {},
     "output_type": "display_data"
    }
   ],
   "source": [
    "from plotly.offline import iplot, init_notebook_mode\n",
    "init_notebook_mode(connected=True)\n",
    "from graph import trace_values, m_b_trace, plot\n",
    "\n",
    "\n",
    "movies_trace = trace_values(x_values, y_values, text=titles, name='movie data')\n",
    "regression_trace = m_b_trace(1.7, 100000, x_values, name='estimated revenue')\n",
    "plot([movies_trace, regression_trace])"
   ]
  },
  {
   "cell_type": "markdown",
   "metadata": {},
   "source": [
    "### Calculating errors of a regression Line"
   ]
  },
  {
   "cell_type": "markdown",
   "metadata": {},
   "source": [
    "Now that we have our regression formula, we can move towards calculating the error.  Let's start by writing a function named `y_actual`, that given a value, $x$, a list of `x_values` and a list of `y_values` to represent our dataset, returns the value of $y$ at $x$."
   ]
  },
  {
   "cell_type": "code",
   "execution_count": 14,
   "metadata": {},
   "outputs": [],
   "source": [
    "def y_actual(x, x_values, y_values):\n",
    "    index = x_values.index(x)\n",
    "    return y_values[index]\n",
    "    pass"
   ]
  },
  {
   "cell_type": "code",
   "execution_count": 26,
   "metadata": {},
   "outputs": [
    {
     "data": {
      "text/plain": [
       "25682380.0"
      ]
     },
     "execution_count": 26,
     "metadata": {},
     "output_type": "execute_result"
    }
   ],
   "source": [
    "y_actual(13000000, x_values, y_values) # 25682380.0"
   ]
  },
  {
   "cell_type": "markdown",
   "metadata": {},
   "source": [
    "Now write a function called `error`, that given a list of `x_values`, and a list of `y_values`, the values `m` and `b` of a regression line, and a value of `x`, returns the error at that x value.  Remember ${\\varepsilon_i} =  y_i - \\overline{y}_i$.  "
   ]
  },
  {
   "cell_type": "code",
   "execution_count": 15,
   "metadata": {},
   "outputs": [],
   "source": [
    "def error(x_values, y_values, m, b, x):\n",
    "    y_point_actual = y_actual(x, x_values, y_values)\n",
    "    y_point_prediction = m * x + b\n",
    "    return y_point_actual - y_point_prediction\n",
    "    pass"
   ]
  },
  {
   "cell_type": "code",
   "execution_count": 28,
   "metadata": {},
   "outputs": [
    {
     "data": {
      "text/plain": [
       "3482380.0"
      ]
     },
     "execution_count": 28,
     "metadata": {},
     "output_type": "execute_result"
    }
   ],
   "source": [
    "error(x_values, y_values, 1.7, 100000, 13000000) # 3482380.0"
   ]
  },
  {
   "cell_type": "markdown",
   "metadata": {},
   "source": [
    "Now that we have a formula to calculate our errors, write a function that returns a trace of an error at a given point.  The function is called `error_line` and it takes our dataset of `x_values` as the first argument, and `y_values` as the second argument.  It also takes in values of $m$ and $b$ as the next two arguments, to represent the regression line it is calculating errors from.  Finally, it's last argument is the value $x$ it is drawing an error for.\n",
    "\n",
    "The return value is a dictionary that represents a trace.  The x values of the trace are two x values, and the y values of the trace are the actual value and the expected value.  The mode of the trace should equal `line`."
   ]
  },
  {
   "cell_type": "code",
   "execution_count": 22,
   "metadata": {},
   "outputs": [],
   "source": [
    "def error_line_trace(x_values, y_values, m, b, x):\n",
    "    y_actual_value = y_actual(x, x_values, y_values)\n",
    "    y_expected_value = m * x + b\n",
    "    return {'marker': {'color': 'red'}, 'mode': 'line', 'name': f'error at {x} ', 'x': [x,x], 'y': [y_actual_value, y_expected_value]}\n",
    "    pass"
   ]
  },
  {
   "cell_type": "code",
   "execution_count": 23,
   "metadata": {},
   "outputs": [
    {
     "data": {
      "text/plain": [
       "{'marker': {'color': 'red'},\n",
       " 'mode': 'line',\n",
       " 'name': 'error at 120000000 ',\n",
       " 'x': [120000000, 120000000],\n",
       " 'y': [93050117.0, 204010000.0]}"
      ]
     },
     "execution_count": 23,
     "metadata": {},
     "output_type": "execute_result"
    }
   ],
   "source": [
    "error_at_120m = error_line_trace(x_values, y_values, 1.7, 10000, 120000000)\n",
    "\n",
    "# {'marker': {'color': 'red'},\n",
    "#  'mode': 'line',\n",
    "#  'name': 'error at 120000000',\n",
    "#  'x': [120000000, 120000000],\n",
    "#  'y': [93050117.0, 204010000.0]}\n",
    "error_at_120m"
   ]
  },
  {
   "cell_type": "markdown",
   "metadata": {},
   "source": [
    "We just ran the our function to draw a trace of the error for the movie Elysium.  Let's see how it looks."
   ]
  },
  {
   "cell_type": "code",
   "execution_count": 33,
   "metadata": {},
   "outputs": [
    {
     "data": {
      "text/plain": [
       "{'budget': 120000000, 'domgross': 93050117.0, 'title': 'Elysium'}"
      ]
     },
     "execution_count": 33,
     "metadata": {},
     "output_type": "execute_result"
    }
   ],
   "source": [
    "movies[19]"
   ]
  },
  {
   "cell_type": "markdown",
   "metadata": {},
   "source": [
    "We can use a function from our [linear_equations](https://github.com/learn-co-curriculum/evaluating-regression-lines-lab/blob/master/linear_equations.py) library that we previously wrote."
   ]
  },
  {
   "cell_type": "code",
   "execution_count": 18,
   "metadata": {},
   "outputs": [
    {
     "data": {
      "text/plain": [
       "22110000.0"
      ]
     },
     "execution_count": 18,
     "metadata": {},
     "output_type": "execute_result"
    }
   ],
   "source": [
    "from linear_equations import expected_value_for_line\n",
    "\n",
    "y_actual(13000000, x_values, y_values) # 25682380.0\n",
    "expected_value_for_line(1.7, 10000, 13000000) # 22110000.0"
   ]
  },
  {
   "cell_type": "code",
   "execution_count": 38,
   "metadata": {},
   "outputs": [
    {
     "data": {
      "text/html": [
       "<script>requirejs.config({paths: { 'plotly': ['https://cdn.plot.ly/plotly-latest.min']},});if(!window.Plotly) {{require(['plotly'],function(plotly) {window.Plotly=plotly;});}}</script>"
      ],
      "text/vnd.plotly.v1+html": [
       "<script>requirejs.config({paths: { 'plotly': ['https://cdn.plot.ly/plotly-latest.min']},});if(!window.Plotly) {{require(['plotly'],function(plotly) {window.Plotly=plotly;});}}</script>"
      ]
     },
     "metadata": {},
     "output_type": "display_data"
    },
    {
     "data": {
      "application/vnd.plotly.v1+json": {
       "data": [
        {
         "mode": "markers",
         "name": "movie data",
         "text": [
          "21 &amp; Over",
          "Dredd 3D",
          "12 Years a Slave",
          "2 Guns",
          "42",
          "47 Ronin",
          "A Good Day to Die Hard",
          "About Time",
          "Admission",
          "After Earth",
          "American Hustle",
          "August: Osage County",
          "Beautiful Creatures",
          "Blue Jasmine",
          "Captain Phillips",
          "Carrie",
          "Cloudy with a Chance of Meatballs 2",
          "Despicable Me 2",
          "Don Jon",
          "Elysium",
          "Ender&#39;s Game",
          "Epic",
          "Escape from Planet Earth",
          "Escape Plan",
          "Evil Dead",
          "Fast and Furious 6",
          "Frozen",
          "G.I. Joe: Retaliation",
          "Gangster Squad",
          "Gloria"
         ],
         "x": [
          13000000,
          45658735,
          20000000,
          61000000,
          40000000,
          225000000,
          92000000,
          12000000,
          13000000,
          130000000,
          40000000,
          25000000,
          50000000,
          18000000,
          55000000,
          30000000,
          78000000,
          76000000,
          5500000,
          120000000,
          110000000,
          100000000,
          40000000,
          70000000,
          17000000,
          160000000,
          150000000,
          140000000,
          60000000,
          30000000
         ],
         "y": [
          25682380,
          13414714,
          53107035,
          75612460,
          95020213,
          38362475,
          67349198,
          15323921,
          18007317,
          60522097,
          148430908,
          37304874,
          19452138,
          33345833,
          107136417,
          35266619,
          119640264,
          368065385,
          24477704,
          93050117,
          61737191,
          107518682,
          57012977,
          25213103,
          54239856,
          238679850,
          393050114,
          122523060,
          46000903,
          4167493
         ]
        },
        {
         "mode": "line",
         "name": "estimated revenue",
         "x": [
          13000000,
          45658735,
          20000000,
          61000000,
          40000000,
          225000000,
          92000000,
          12000000,
          13000000,
          130000000,
          40000000,
          25000000,
          50000000,
          18000000,
          55000000,
          30000000,
          78000000,
          76000000,
          5500000,
          120000000,
          110000000,
          100000000,
          40000000,
          70000000,
          17000000,
          160000000,
          150000000,
          140000000,
          60000000,
          30000000
         ],
         "y": [
          22200000,
          77719849.5,
          34100000,
          103800000,
          68100000,
          382600000,
          156500000,
          20500000,
          22200000,
          221100000,
          68100000,
          42600000,
          85100000,
          30700000,
          93600000,
          51100000,
          132700000,
          129300000,
          9450000,
          204100000,
          187100000,
          170100000,
          68100000,
          119100000,
          29000000,
          272100000,
          255100000,
          238100000,
          102100000,
          51100000
         ]
        },
        {
         "marker": {
          "color": "red"
         },
         "mode": "line",
         "name": "error at 120000000",
         "x": [
          120000000,
          120000000
         ],
         "y": [
          93050117,
          204010000
         ]
        }
       ],
       "layout": {}
      },
      "text/html": [
       "<div id=\"08c3ed8d-d67b-410f-8d03-d3b058cb0758\" style=\"height: 525px; width: 100%;\" class=\"plotly-graph-div\"></div><script type=\"text/javascript\">require([\"plotly\"], function(Plotly) { window.PLOTLYENV=window.PLOTLYENV || {};window.PLOTLYENV.BASE_URL=\"https://plot.ly\";Plotly.newPlot(\"08c3ed8d-d67b-410f-8d03-d3b058cb0758\", [{\"x\": [13000000, 45658735, 20000000, 61000000, 40000000, 225000000, 92000000, 12000000, 13000000, 130000000, 40000000, 25000000, 50000000, 18000000, 55000000, 30000000, 78000000, 76000000, 5500000, 120000000, 110000000, 100000000, 40000000, 70000000, 17000000, 160000000, 150000000, 140000000, 60000000, 30000000], \"y\": [25682380.0, 13414714.0, 53107035.0, 75612460.0, 95020213.0, 38362475.0, 67349198.0, 15323921.0, 18007317.0, 60522097.0, 148430908.0, 37304874.0, 19452138.0, 33345833.0, 107136417.0, 35266619.0, 119640264.0, 368065385.0, 24477704.0, 93050117.0, 61737191.0, 107518682.0, 57012977.0, 25213103.0, 54239856.0, 238679850.0, 393050114.0, 122523060.0, 46000903.0, 4167493.0], \"mode\": \"markers\", \"name\": \"movie data\", \"text\": [\"21 &amp; Over\", \"Dredd 3D\", \"12 Years a Slave\", \"2 Guns\", \"42\", \"47 Ronin\", \"A Good Day to Die Hard\", \"About Time\", \"Admission\", \"After Earth\", \"American Hustle\", \"August: Osage County\", \"Beautiful Creatures\", \"Blue Jasmine\", \"Captain Phillips\", \"Carrie\", \"Cloudy with a Chance of Meatballs 2\", \"Despicable Me 2\", \"Don Jon\", \"Elysium\", \"Ender&#39;s Game\", \"Epic\", \"Escape from Planet Earth\", \"Escape Plan\", \"Evil Dead\", \"Fast and Furious 6\", \"Frozen\", \"G.I. Joe: Retaliation\", \"Gangster Squad\", \"Gloria\"]}, {\"x\": [13000000, 45658735, 20000000, 61000000, 40000000, 225000000, 92000000, 12000000, 13000000, 130000000, 40000000, 25000000, 50000000, 18000000, 55000000, 30000000, 78000000, 76000000, 5500000, 120000000, 110000000, 100000000, 40000000, 70000000, 17000000, 160000000, 150000000, 140000000, 60000000, 30000000], \"y\": [22200000.0, 77719849.5, 34100000.0, 103800000.0, 68100000.0, 382600000.0, 156500000.0, 20500000.0, 22200000.0, 221100000.0, 68100000.0, 42600000.0, 85100000.0, 30700000.0, 93600000.0, 51100000.0, 132700000.0, 129300000.0, 9450000.0, 204100000.0, 187100000.0, 170100000.0, 68100000.0, 119100000.0, 29000000.0, 272100000.0, 255100000.0, 238100000.0, 102100000.0, 51100000.0], \"mode\": \"line\", \"name\": \"estimated revenue\"}, {\"marker\": {\"color\": \"red\"}, \"mode\": \"line\", \"name\": \"error at 120000000\", \"x\": [120000000, 120000000], \"y\": [93050117.0, 204010000.0]}], {}, {\"showLink\": true, \"linkText\": \"Export to plot.ly\"})});</script>"
      ],
      "text/vnd.plotly.v1+html": [
       "<div id=\"08c3ed8d-d67b-410f-8d03-d3b058cb0758\" style=\"height: 525px; width: 100%;\" class=\"plotly-graph-div\"></div><script type=\"text/javascript\">require([\"plotly\"], function(Plotly) { window.PLOTLYENV=window.PLOTLYENV || {};window.PLOTLYENV.BASE_URL=\"https://plot.ly\";Plotly.newPlot(\"08c3ed8d-d67b-410f-8d03-d3b058cb0758\", [{\"x\": [13000000, 45658735, 20000000, 61000000, 40000000, 225000000, 92000000, 12000000, 13000000, 130000000, 40000000, 25000000, 50000000, 18000000, 55000000, 30000000, 78000000, 76000000, 5500000, 120000000, 110000000, 100000000, 40000000, 70000000, 17000000, 160000000, 150000000, 140000000, 60000000, 30000000], \"y\": [25682380.0, 13414714.0, 53107035.0, 75612460.0, 95020213.0, 38362475.0, 67349198.0, 15323921.0, 18007317.0, 60522097.0, 148430908.0, 37304874.0, 19452138.0, 33345833.0, 107136417.0, 35266619.0, 119640264.0, 368065385.0, 24477704.0, 93050117.0, 61737191.0, 107518682.0, 57012977.0, 25213103.0, 54239856.0, 238679850.0, 393050114.0, 122523060.0, 46000903.0, 4167493.0], \"mode\": \"markers\", \"name\": \"movie data\", \"text\": [\"21 &amp; Over\", \"Dredd 3D\", \"12 Years a Slave\", \"2 Guns\", \"42\", \"47 Ronin\", \"A Good Day to Die Hard\", \"About Time\", \"Admission\", \"After Earth\", \"American Hustle\", \"August: Osage County\", \"Beautiful Creatures\", \"Blue Jasmine\", \"Captain Phillips\", \"Carrie\", \"Cloudy with a Chance of Meatballs 2\", \"Despicable Me 2\", \"Don Jon\", \"Elysium\", \"Ender&#39;s Game\", \"Epic\", \"Escape from Planet Earth\", \"Escape Plan\", \"Evil Dead\", \"Fast and Furious 6\", \"Frozen\", \"G.I. Joe: Retaliation\", \"Gangster Squad\", \"Gloria\"]}, {\"x\": [13000000, 45658735, 20000000, 61000000, 40000000, 225000000, 92000000, 12000000, 13000000, 130000000, 40000000, 25000000, 50000000, 18000000, 55000000, 30000000, 78000000, 76000000, 5500000, 120000000, 110000000, 100000000, 40000000, 70000000, 17000000, 160000000, 150000000, 140000000, 60000000, 30000000], \"y\": [22200000.0, 77719849.5, 34100000.0, 103800000.0, 68100000.0, 382600000.0, 156500000.0, 20500000.0, 22200000.0, 221100000.0, 68100000.0, 42600000.0, 85100000.0, 30700000.0, 93600000.0, 51100000.0, 132700000.0, 129300000.0, 9450000.0, 204100000.0, 187100000.0, 170100000.0, 68100000.0, 119100000.0, 29000000.0, 272100000.0, 255100000.0, 238100000.0, 102100000.0, 51100000.0], \"mode\": \"line\", \"name\": \"estimated revenue\"}, {\"marker\": {\"color\": \"red\"}, \"mode\": \"line\", \"name\": \"error at 120000000\", \"x\": [120000000, 120000000], \"y\": [93050117.0, 204010000.0]}], {}, {\"showLink\": true, \"linkText\": \"Export to plot.ly\"})});</script>"
      ]
     },
     "metadata": {},
     "output_type": "display_data"
    }
   ],
   "source": [
    "from plotly.offline import iplot, init_notebook_mode\n",
    "init_notebook_mode(connected=True)\n",
    "\n",
    "from graph import trace_values, m_b_trace, plot\n",
    "\n",
    "movies_trace = trace_values(x_values, y_values, text=titles, name='movie data')\n",
    "regression_trace = m_b_trace(1.7, 100000, x_values, name='estimated revenue')\n",
    "plot([movies_trace, regression_trace, error_at_120m])"
   ]
  },
  {
   "cell_type": "markdown",
   "metadata": {},
   "source": [
    "From there, we can write a function called `error_lines`, that takes in a list of `x_values` as an argument, `y_values` as an argument, and returns a list of traces for every x_value provided."
   ]
  },
  {
   "cell_type": "code",
   "execution_count": 24,
   "metadata": {},
   "outputs": [],
   "source": [
    "def error_line_traces(x_values, y_values, m, b):\n",
    "    return list(map(lambda x: error_line_trace(x_values, y_values, m, b, x), x_values))\n",
    "    pass"
   ]
  },
  {
   "cell_type": "code",
   "execution_count": 25,
   "metadata": {},
   "outputs": [],
   "source": [
    "errors_for_regression = error_line_traces(x_values[0:5], y_values[0:5], 1.7, 100000)"
   ]
  },
  {
   "cell_type": "code",
   "execution_count": 26,
   "metadata": {},
   "outputs": [
    {
     "data": {
      "text/plain": [
       "{'marker': {'color': 'red'},\n",
       " 'mode': 'line',\n",
       " 'name': 'error at 40000000 ',\n",
       " 'x': [40000000, 40000000],\n",
       " 'y': [95020213.0, 68100000.0]}"
      ]
     },
     "execution_count": 26,
     "metadata": {},
     "output_type": "execute_result"
    }
   ],
   "source": [
    "len(errors_for_regression) # 5\n",
    "errors_for_regression[-1]\n",
    "\n",
    "# {'marker': {'color': 'red'},\n",
    "#  'mode': 'line',\n",
    "#  'name': 'error at 40000000',\n",
    "#  'x': [40000000, 40000000],\n",
    "#  'y': [95020213.0, 68100000.0]}"
   ]
  },
  {
   "cell_type": "code",
   "execution_count": 32,
   "metadata": {},
   "outputs": [
    {
     "data": {
      "text/html": [
       "<script>requirejs.config({paths: { 'plotly': ['https://cdn.plot.ly/plotly-latest.min']},});if(!window.Plotly) {{require(['plotly'],function(plotly) {window.Plotly=plotly;});}}</script>"
      ],
      "text/vnd.plotly.v1+html": [
       "<script>requirejs.config({paths: { 'plotly': ['https://cdn.plot.ly/plotly-latest.min']},});if(!window.Plotly) {{require(['plotly'],function(plotly) {window.Plotly=plotly;});}}</script>"
      ]
     },
     "metadata": {},
     "output_type": "display_data"
    },
    {
     "data": {
      "application/vnd.plotly.v1+json": {
       "data": [
        {
         "mode": "markers",
         "name": "movie data",
         "text": [
          "21 &amp; Over",
          "Dredd 3D",
          "12 Years a Slave",
          "2 Guns",
          "42",
          "47 Ronin",
          "A Good Day to Die Hard",
          "About Time",
          "Admission",
          "After Earth",
          "American Hustle",
          "August: Osage County",
          "Beautiful Creatures",
          "Blue Jasmine",
          "Captain Phillips",
          "Carrie",
          "Cloudy with a Chance of Meatballs 2",
          "Despicable Me 2",
          "Don Jon",
          "Elysium",
          "Ender&#39;s Game",
          "Epic",
          "Escape from Planet Earth",
          "Escape Plan",
          "Evil Dead",
          "Fast and Furious 6",
          "Frozen",
          "G.I. Joe: Retaliation",
          "Gangster Squad",
          "Gloria"
         ],
         "x": [
          13000000,
          45658735,
          20000000,
          61000000,
          40000000,
          225000000,
          92000000,
          12000000,
          13000000,
          130000000,
          40000000,
          25000000,
          50000000,
          18000000,
          55000000,
          30000000,
          78000000,
          76000000,
          5500000,
          120000000,
          110000000,
          100000000,
          40000000,
          70000000,
          17000000,
          160000000,
          150000000,
          140000000,
          60000000,
          30000000
         ],
         "y": [
          25682380,
          13414714,
          53107035,
          75612460,
          95020213,
          38362475,
          67349198,
          15323921,
          18007317,
          60522097,
          148430908,
          37304874,
          19452138,
          33345833,
          107136417,
          35266619,
          119640264,
          368065385,
          24477704,
          93050117,
          61737191,
          107518682,
          57012977,
          25213103,
          54239856,
          238679850,
          393050114,
          122523060,
          46000903,
          4167493
         ]
        },
        {
         "mode": "line",
         "name": "estimated revenue",
         "x": [
          13000000,
          45658735,
          20000000,
          61000000,
          40000000,
          225000000,
          92000000,
          12000000,
          13000000,
          130000000,
          40000000,
          25000000,
          50000000,
          18000000,
          55000000,
          30000000,
          78000000,
          76000000,
          5500000,
          120000000,
          110000000,
          100000000,
          40000000,
          70000000,
          17000000,
          160000000,
          150000000,
          140000000,
          60000000,
          30000000
         ],
         "y": [
          22200000,
          77719849.5,
          34100000,
          103800000,
          68100000,
          382600000,
          156500000,
          20500000,
          22200000,
          221100000,
          68100000,
          42600000,
          85100000,
          30700000,
          93600000,
          51100000,
          132700000,
          129300000,
          9450000,
          204100000,
          187100000,
          170100000,
          68100000,
          119100000,
          29000000,
          272100000,
          255100000,
          238100000,
          102100000,
          51100000
         ]
        },
        {
         "marker": {
          "color": "red"
         },
         "mode": "line",
         "name": "error at 13000000 ",
         "x": [
          13000000,
          13000000
         ],
         "y": [
          25682380,
          22200000
         ]
        },
        {
         "marker": {
          "color": "red"
         },
         "mode": "line",
         "name": "error at 45658735 ",
         "x": [
          45658735,
          45658735
         ],
         "y": [
          13414714,
          77719849.5
         ]
        },
        {
         "marker": {
          "color": "red"
         },
         "mode": "line",
         "name": "error at 20000000 ",
         "x": [
          20000000,
          20000000
         ],
         "y": [
          53107035,
          34100000
         ]
        },
        {
         "marker": {
          "color": "red"
         },
         "mode": "line",
         "name": "error at 61000000 ",
         "x": [
          61000000,
          61000000
         ],
         "y": [
          75612460,
          103800000
         ]
        },
        {
         "marker": {
          "color": "red"
         },
         "mode": "line",
         "name": "error at 40000000 ",
         "x": [
          40000000,
          40000000
         ],
         "y": [
          95020213,
          68100000
         ]
        }
       ],
       "layout": {}
      },
      "text/html": [
       "<div id=\"ed745cd4-e941-43c0-ba11-e0dbfca70283\" style=\"height: 525px; width: 100%;\" class=\"plotly-graph-div\"></div><script type=\"text/javascript\">require([\"plotly\"], function(Plotly) { window.PLOTLYENV=window.PLOTLYENV || {};window.PLOTLYENV.BASE_URL=\"https://plot.ly\";Plotly.newPlot(\"ed745cd4-e941-43c0-ba11-e0dbfca70283\", [{\"x\": [13000000, 45658735, 20000000, 61000000, 40000000, 225000000, 92000000, 12000000, 13000000, 130000000, 40000000, 25000000, 50000000, 18000000, 55000000, 30000000, 78000000, 76000000, 5500000, 120000000, 110000000, 100000000, 40000000, 70000000, 17000000, 160000000, 150000000, 140000000, 60000000, 30000000], \"y\": [25682380.0, 13414714.0, 53107035.0, 75612460.0, 95020213.0, 38362475.0, 67349198.0, 15323921.0, 18007317.0, 60522097.0, 148430908.0, 37304874.0, 19452138.0, 33345833.0, 107136417.0, 35266619.0, 119640264.0, 368065385.0, 24477704.0, 93050117.0, 61737191.0, 107518682.0, 57012977.0, 25213103.0, 54239856.0, 238679850.0, 393050114.0, 122523060.0, 46000903.0, 4167493.0], \"mode\": \"markers\", \"name\": \"movie data\", \"text\": [\"21 &amp; Over\", \"Dredd 3D\", \"12 Years a Slave\", \"2 Guns\", \"42\", \"47 Ronin\", \"A Good Day to Die Hard\", \"About Time\", \"Admission\", \"After Earth\", \"American Hustle\", \"August: Osage County\", \"Beautiful Creatures\", \"Blue Jasmine\", \"Captain Phillips\", \"Carrie\", \"Cloudy with a Chance of Meatballs 2\", \"Despicable Me 2\", \"Don Jon\", \"Elysium\", \"Ender&#39;s Game\", \"Epic\", \"Escape from Planet Earth\", \"Escape Plan\", \"Evil Dead\", \"Fast and Furious 6\", \"Frozen\", \"G.I. Joe: Retaliation\", \"Gangster Squad\", \"Gloria\"]}, {\"x\": [13000000, 45658735, 20000000, 61000000, 40000000, 225000000, 92000000, 12000000, 13000000, 130000000, 40000000, 25000000, 50000000, 18000000, 55000000, 30000000, 78000000, 76000000, 5500000, 120000000, 110000000, 100000000, 40000000, 70000000, 17000000, 160000000, 150000000, 140000000, 60000000, 30000000], \"y\": [22200000.0, 77719849.5, 34100000.0, 103800000.0, 68100000.0, 382600000.0, 156500000.0, 20500000.0, 22200000.0, 221100000.0, 68100000.0, 42600000.0, 85100000.0, 30700000.0, 93600000.0, 51100000.0, 132700000.0, 129300000.0, 9450000.0, 204100000.0, 187100000.0, 170100000.0, 68100000.0, 119100000.0, 29000000.0, 272100000.0, 255100000.0, 238100000.0, 102100000.0, 51100000.0], \"mode\": \"line\", \"name\": \"estimated revenue\"}, {\"marker\": {\"color\": \"red\"}, \"mode\": \"line\", \"name\": \"error at 13000000 \", \"x\": [13000000, 13000000], \"y\": [25682380.0, 22200000.0]}, {\"marker\": {\"color\": \"red\"}, \"mode\": \"line\", \"name\": \"error at 45658735 \", \"x\": [45658735, 45658735], \"y\": [13414714.0, 77719849.5]}, {\"marker\": {\"color\": \"red\"}, \"mode\": \"line\", \"name\": \"error at 20000000 \", \"x\": [20000000, 20000000], \"y\": [53107035.0, 34100000.0]}, {\"marker\": {\"color\": \"red\"}, \"mode\": \"line\", \"name\": \"error at 61000000 \", \"x\": [61000000, 61000000], \"y\": [75612460.0, 103800000.0]}, {\"marker\": {\"color\": \"red\"}, \"mode\": \"line\", \"name\": \"error at 40000000 \", \"x\": [40000000, 40000000], \"y\": [95020213.0, 68100000.0]}], {}, {\"showLink\": true, \"linkText\": \"Export to plot.ly\"})});</script>"
      ],
      "text/vnd.plotly.v1+html": [
       "<div id=\"ed745cd4-e941-43c0-ba11-e0dbfca70283\" style=\"height: 525px; width: 100%;\" class=\"plotly-graph-div\"></div><script type=\"text/javascript\">require([\"plotly\"], function(Plotly) { window.PLOTLYENV=window.PLOTLYENV || {};window.PLOTLYENV.BASE_URL=\"https://plot.ly\";Plotly.newPlot(\"ed745cd4-e941-43c0-ba11-e0dbfca70283\", [{\"x\": [13000000, 45658735, 20000000, 61000000, 40000000, 225000000, 92000000, 12000000, 13000000, 130000000, 40000000, 25000000, 50000000, 18000000, 55000000, 30000000, 78000000, 76000000, 5500000, 120000000, 110000000, 100000000, 40000000, 70000000, 17000000, 160000000, 150000000, 140000000, 60000000, 30000000], \"y\": [25682380.0, 13414714.0, 53107035.0, 75612460.0, 95020213.0, 38362475.0, 67349198.0, 15323921.0, 18007317.0, 60522097.0, 148430908.0, 37304874.0, 19452138.0, 33345833.0, 107136417.0, 35266619.0, 119640264.0, 368065385.0, 24477704.0, 93050117.0, 61737191.0, 107518682.0, 57012977.0, 25213103.0, 54239856.0, 238679850.0, 393050114.0, 122523060.0, 46000903.0, 4167493.0], \"mode\": \"markers\", \"name\": \"movie data\", \"text\": [\"21 &amp; Over\", \"Dredd 3D\", \"12 Years a Slave\", \"2 Guns\", \"42\", \"47 Ronin\", \"A Good Day to Die Hard\", \"About Time\", \"Admission\", \"After Earth\", \"American Hustle\", \"August: Osage County\", \"Beautiful Creatures\", \"Blue Jasmine\", \"Captain Phillips\", \"Carrie\", \"Cloudy with a Chance of Meatballs 2\", \"Despicable Me 2\", \"Don Jon\", \"Elysium\", \"Ender&#39;s Game\", \"Epic\", \"Escape from Planet Earth\", \"Escape Plan\", \"Evil Dead\", \"Fast and Furious 6\", \"Frozen\", \"G.I. Joe: Retaliation\", \"Gangster Squad\", \"Gloria\"]}, {\"x\": [13000000, 45658735, 20000000, 61000000, 40000000, 225000000, 92000000, 12000000, 13000000, 130000000, 40000000, 25000000, 50000000, 18000000, 55000000, 30000000, 78000000, 76000000, 5500000, 120000000, 110000000, 100000000, 40000000, 70000000, 17000000, 160000000, 150000000, 140000000, 60000000, 30000000], \"y\": [22200000.0, 77719849.5, 34100000.0, 103800000.0, 68100000.0, 382600000.0, 156500000.0, 20500000.0, 22200000.0, 221100000.0, 68100000.0, 42600000.0, 85100000.0, 30700000.0, 93600000.0, 51100000.0, 132700000.0, 129300000.0, 9450000.0, 204100000.0, 187100000.0, 170100000.0, 68100000.0, 119100000.0, 29000000.0, 272100000.0, 255100000.0, 238100000.0, 102100000.0, 51100000.0], \"mode\": \"line\", \"name\": \"estimated revenue\"}, {\"marker\": {\"color\": \"red\"}, \"mode\": \"line\", \"name\": \"error at 13000000 \", \"x\": [13000000, 13000000], \"y\": [25682380.0, 22200000.0]}, {\"marker\": {\"color\": \"red\"}, \"mode\": \"line\", \"name\": \"error at 45658735 \", \"x\": [45658735, 45658735], \"y\": [13414714.0, 77719849.5]}, {\"marker\": {\"color\": \"red\"}, \"mode\": \"line\", \"name\": \"error at 20000000 \", \"x\": [20000000, 20000000], \"y\": [53107035.0, 34100000.0]}, {\"marker\": {\"color\": \"red\"}, \"mode\": \"line\", \"name\": \"error at 61000000 \", \"x\": [61000000, 61000000], \"y\": [75612460.0, 103800000.0]}, {\"marker\": {\"color\": \"red\"}, \"mode\": \"line\", \"name\": \"error at 40000000 \", \"x\": [40000000, 40000000], \"y\": [95020213.0, 68100000.0]}], {}, {\"showLink\": true, \"linkText\": \"Export to plot.ly\"})});</script>"
      ]
     },
     "metadata": {},
     "output_type": "display_data"
    }
   ],
   "source": [
    "from plotly.offline import iplot, init_notebook_mode\n",
    "init_notebook_mode(connected=True)\n",
    "\n",
    "from graph import trace_values, m_b_trace, plot\n",
    "movies_trace = trace_values(x_values, y_values, text=titles, name='movie data')\n",
    "regression_trace = m_b_trace(1.7, 100000, x_values, name='estimated revenue')\n",
    "plot([movies_trace, regression_trace, *errors_for_regression])"
   ]
  },
  {
   "cell_type": "markdown",
   "metadata": {},
   "source": [
    "### Calculating RSS"
   ]
  },
  {
   "cell_type": "markdown",
   "metadata": {},
   "source": [
    "Now write a function called `squared_error`, that given a value of x, returns the squared error at that x value.\n",
    "\n",
    "${\\varepsilon_i}^2 =  (y_i - \\overline{y}_i)^2$"
   ]
  },
  {
   "cell_type": "code",
   "execution_count": 33,
   "metadata": {},
   "outputs": [],
   "source": [
    "def squared_error(x_values, y_values, m, b, x):\n",
    "    return error(x_values, y_values, m, b, x) ** 2\n",
    "    pass"
   ]
  },
  {
   "cell_type": "code",
   "execution_count": 34,
   "metadata": {},
   "outputs": [
    {
     "data": {
      "text/plain": [
       "12126970464400.0"
      ]
     },
     "execution_count": 34,
     "metadata": {},
     "output_type": "execute_result"
    }
   ],
   "source": [
    "squared_error(x_values, y_values, 1.7, 100000, x_values[0]) # 12126970464400.0"
   ]
  },
  {
   "cell_type": "markdown",
   "metadata": {},
   "source": [
    "Next, write a function called `residual_sum_squares` that provided a list of points returns the total squared error for the movies in our dataset."
   ]
  },
  {
   "cell_type": "code",
   "execution_count": 41,
   "metadata": {},
   "outputs": [],
   "source": [
    "def squared_errors(x_values, y_values, m, b):\n",
    "    return list(map(lambda x: squared_error(x_values, y_values, m, b, x), x_values))\n",
    "    pass"
   ]
  },
  {
   "cell_type": "code",
   "execution_count": 42,
   "metadata": {},
   "outputs": [
    {
     "data": {
      "text/plain": [
       "3.0025171100327725e+17"
      ]
     },
     "execution_count": 42,
     "metadata": {},
     "output_type": "execute_result"
    }
   ],
   "source": [
    "squared_errors(x_values, y_values, 1.7, 100000)"
   ]
  },
  {
   "cell_type": "code",
   "execution_count": 45,
   "metadata": {},
   "outputs": [
    {
     "data": {
      "text/plain": [
       "3.0025171100327725e+17"
      ]
     },
     "execution_count": 45,
     "metadata": {},
     "output_type": "execute_result"
    }
   ],
   "source": [
    "def residual_sum_squares(x_values, y_values, m, b):\n",
    "    return sum(squared_errors(x_values, y_values, m, b))\n",
    "    pass\n",
    "\n",
    "residual_sum_squares(x_values, y_values, 1.7, 100000)"
   ]
  },
  {
   "cell_type": "markdown",
   "metadata": {},
   "source": [
    "Now we'll provide a couple functions for you. a function called `trace_rss`, that build a bar chart displaying the value of the RSS.  The return value is a dictionary with keys of `x` and `y`, both which point to lists.  The $x$ key should point to a list with one element, the string 'RSS'.  The $y$ list should be a list which points to the value of the RSS for the line."
   ]
  },
  {
   "cell_type": "code",
   "execution_count": 48,
   "metadata": {},
   "outputs": [
    {
     "data": {
      "text/plain": [
       "{'type': 'bar', 'x': ['RSS'], 'y': [3.0025171100327725e+17]}"
      ]
     },
     "execution_count": 48,
     "metadata": {},
     "output_type": "execute_result"
    }
   ],
   "source": [
    "import plotly.graph_objs as go\n",
    "\n",
    "def trace_rss(x_values, y_values, m, b):\n",
    "    return {'type': 'bar', 'x': ['RSS'], 'y': [residual_sum_squares(x_values, y_values, m, b)]}\n",
    "    pass\n",
    "\n",
    "trace_rss(x_values, y_values, 1.7, 100000)\n",
    "# {'type': 'bar', 'x': ['RSS'], 'y': [3.0025171100327725e+17]}"
   ]
  },
  {
   "cell_type": "markdown",
   "metadata": {},
   "source": [
    "Once this is built, we can turn build a subplot showing the regression line, as well as the related RSS for the regression line."
   ]
  },
  {
   "cell_type": "code",
   "execution_count": 49,
   "metadata": {},
   "outputs": [],
   "source": [
    "import plotly\n",
    "from plotly import tools\n",
    "import plotly.graph_objs as go\n",
    "\n",
    "def plot_regression_and_rss(scatter_trace, regression_trace, rss_calc_trace):\n",
    "    fig = tools.make_subplots(rows=1, cols=2)\n",
    "    fig.append_trace(scatter_trace, 1, 1)\n",
    "    fig.append_trace(regression_trace, 1, 1)\n",
    "    fig.append_trace(rss_calc_trace, 1, 2)\n",
    "    plotly.offline.iplot(fig)"
   ]
  },
  {
   "cell_type": "code",
   "execution_count": 50,
   "metadata": {
    "scrolled": true
   },
   "outputs": [
    {
     "name": "stdout",
     "output_type": "stream",
     "text": [
      "This is the format of your plot grid:\n",
      "[ (1,1) x1,y1 ]  [ (1,2) x2,y2 ]\n",
      "\n"
     ]
    },
    {
     "data": {
      "application/vnd.plotly.v1+json": {
       "data": [
        {
         "mode": "markers",
         "name": "movie data",
         "text": [
          "21 &amp; Over",
          "Dredd 3D",
          "12 Years a Slave",
          "2 Guns",
          "42",
          "47 Ronin",
          "A Good Day to Die Hard",
          "About Time",
          "Admission",
          "After Earth",
          "American Hustle",
          "August: Osage County",
          "Beautiful Creatures",
          "Blue Jasmine",
          "Captain Phillips",
          "Carrie",
          "Cloudy with a Chance of Meatballs 2",
          "Despicable Me 2",
          "Don Jon",
          "Elysium",
          "Ender&#39;s Game",
          "Epic",
          "Escape from Planet Earth",
          "Escape Plan",
          "Evil Dead",
          "Fast and Furious 6",
          "Frozen",
          "G.I. Joe: Retaliation",
          "Gangster Squad",
          "Gloria"
         ],
         "type": "scatter",
         "x": [
          13000000,
          45658735,
          20000000,
          61000000,
          40000000,
          225000000,
          92000000,
          12000000,
          13000000,
          130000000,
          40000000,
          25000000,
          50000000,
          18000000,
          55000000,
          30000000,
          78000000,
          76000000,
          5500000,
          120000000,
          110000000,
          100000000,
          40000000,
          70000000,
          17000000,
          160000000,
          150000000,
          140000000,
          60000000,
          30000000
         ],
         "xaxis": "x1",
         "y": [
          25682380,
          13414714,
          53107035,
          75612460,
          95020213,
          38362475,
          67349198,
          15323921,
          18007317,
          60522097,
          148430908,
          37304874,
          19452138,
          33345833,
          107136417,
          35266619,
          119640264,
          368065385,
          24477704,
          93050117,
          61737191,
          107518682,
          57012977,
          25213103,
          54239856,
          238679850,
          393050114,
          122523060,
          46000903,
          4167493
         ],
         "yaxis": "y1"
        },
        {
         "mode": "line",
         "name": "estimated revenue",
         "type": "scatter",
         "x": [
          13000000,
          45658735,
          20000000,
          61000000,
          40000000,
          225000000,
          92000000,
          12000000,
          13000000,
          130000000,
          40000000,
          25000000,
          50000000,
          18000000,
          55000000,
          30000000,
          78000000,
          76000000,
          5500000,
          120000000,
          110000000,
          100000000,
          40000000,
          70000000,
          17000000,
          160000000,
          150000000,
          140000000,
          60000000,
          30000000
         ],
         "xaxis": "x1",
         "y": [
          22200000,
          77719849.5,
          34100000,
          103800000,
          68100000,
          382600000,
          156500000,
          20500000,
          22200000,
          221100000,
          68100000,
          42600000,
          85100000,
          30700000,
          93600000,
          51100000,
          132700000,
          129300000,
          9450000,
          204100000,
          187100000,
          170100000,
          68100000,
          119100000,
          29000000,
          272100000,
          255100000,
          238100000,
          102100000,
          51100000
         ],
         "yaxis": "y1"
        },
        {
         "type": "bar",
         "x": [
          "RSS"
         ],
         "xaxis": "x2",
         "y": [
          300251711003277250
         ],
         "yaxis": "y2"
        }
       ],
       "layout": {
        "xaxis1": {
         "anchor": "y1",
         "domain": [
          0,
          0.45
         ]
        },
        "xaxis2": {
         "anchor": "y2",
         "domain": [
          0.55,
          1
         ]
        },
        "yaxis1": {
         "anchor": "x1",
         "domain": [
          0,
          1
         ]
        },
        "yaxis2": {
         "anchor": "x2",
         "domain": [
          0,
          1
         ]
        }
       }
      },
      "text/html": [
       "<div id=\"6e33a828-1471-4015-a7e9-f7b9a6caee9a\" style=\"height: 525px; width: 100%;\" class=\"plotly-graph-div\"></div><script type=\"text/javascript\">require([\"plotly\"], function(Plotly) { window.PLOTLYENV=window.PLOTLYENV || {};window.PLOTLYENV.BASE_URL=\"https://plot.ly\";Plotly.newPlot(\"6e33a828-1471-4015-a7e9-f7b9a6caee9a\", [{\"type\": \"scatter\", \"x\": [13000000, 45658735, 20000000, 61000000, 40000000, 225000000, 92000000, 12000000, 13000000, 130000000, 40000000, 25000000, 50000000, 18000000, 55000000, 30000000, 78000000, 76000000, 5500000, 120000000, 110000000, 100000000, 40000000, 70000000, 17000000, 160000000, 150000000, 140000000, 60000000, 30000000], \"y\": [25682380.0, 13414714.0, 53107035.0, 75612460.0, 95020213.0, 38362475.0, 67349198.0, 15323921.0, 18007317.0, 60522097.0, 148430908.0, 37304874.0, 19452138.0, 33345833.0, 107136417.0, 35266619.0, 119640264.0, 368065385.0, 24477704.0, 93050117.0, 61737191.0, 107518682.0, 57012977.0, 25213103.0, 54239856.0, 238679850.0, 393050114.0, 122523060.0, 46000903.0, 4167493.0], \"mode\": \"markers\", \"name\": \"movie data\", \"text\": [\"21 &amp; Over\", \"Dredd 3D\", \"12 Years a Slave\", \"2 Guns\", \"42\", \"47 Ronin\", \"A Good Day to Die Hard\", \"About Time\", \"Admission\", \"After Earth\", \"American Hustle\", \"August: Osage County\", \"Beautiful Creatures\", \"Blue Jasmine\", \"Captain Phillips\", \"Carrie\", \"Cloudy with a Chance of Meatballs 2\", \"Despicable Me 2\", \"Don Jon\", \"Elysium\", \"Ender&#39;s Game\", \"Epic\", \"Escape from Planet Earth\", \"Escape Plan\", \"Evil Dead\", \"Fast and Furious 6\", \"Frozen\", \"G.I. Joe: Retaliation\", \"Gangster Squad\", \"Gloria\"], \"xaxis\": \"x1\", \"yaxis\": \"y1\"}, {\"type\": \"scatter\", \"x\": [13000000, 45658735, 20000000, 61000000, 40000000, 225000000, 92000000, 12000000, 13000000, 130000000, 40000000, 25000000, 50000000, 18000000, 55000000, 30000000, 78000000, 76000000, 5500000, 120000000, 110000000, 100000000, 40000000, 70000000, 17000000, 160000000, 150000000, 140000000, 60000000, 30000000], \"y\": [22200000.0, 77719849.5, 34100000.0, 103800000.0, 68100000.0, 382600000.0, 156500000.0, 20500000.0, 22200000.0, 221100000.0, 68100000.0, 42600000.0, 85100000.0, 30700000.0, 93600000.0, 51100000.0, 132700000.0, 129300000.0, 9450000.0, 204100000.0, 187100000.0, 170100000.0, 68100000.0, 119100000.0, 29000000.0, 272100000.0, 255100000.0, 238100000.0, 102100000.0, 51100000.0], \"mode\": \"line\", \"name\": \"estimated revenue\", \"xaxis\": \"x1\", \"yaxis\": \"y1\"}, {\"type\": \"bar\", \"x\": [\"RSS\"], \"y\": [3.0025171100327725e+17], \"xaxis\": \"x2\", \"yaxis\": \"y2\"}], {\"xaxis1\": {\"domain\": [0.0, 0.45], \"anchor\": \"y1\"}, \"yaxis1\": {\"domain\": [0.0, 1.0], \"anchor\": \"x1\"}, \"xaxis2\": {\"domain\": [0.55, 1.0], \"anchor\": \"y2\"}, \"yaxis2\": {\"domain\": [0.0, 1.0], \"anchor\": \"x2\"}}, {\"showLink\": true, \"linkText\": \"Export to plot.ly\"})});</script>"
      ],
      "text/vnd.plotly.v1+html": [
       "<div id=\"6e33a828-1471-4015-a7e9-f7b9a6caee9a\" style=\"height: 525px; width: 100%;\" class=\"plotly-graph-div\"></div><script type=\"text/javascript\">require([\"plotly\"], function(Plotly) { window.PLOTLYENV=window.PLOTLYENV || {};window.PLOTLYENV.BASE_URL=\"https://plot.ly\";Plotly.newPlot(\"6e33a828-1471-4015-a7e9-f7b9a6caee9a\", [{\"type\": \"scatter\", \"x\": [13000000, 45658735, 20000000, 61000000, 40000000, 225000000, 92000000, 12000000, 13000000, 130000000, 40000000, 25000000, 50000000, 18000000, 55000000, 30000000, 78000000, 76000000, 5500000, 120000000, 110000000, 100000000, 40000000, 70000000, 17000000, 160000000, 150000000, 140000000, 60000000, 30000000], \"y\": [25682380.0, 13414714.0, 53107035.0, 75612460.0, 95020213.0, 38362475.0, 67349198.0, 15323921.0, 18007317.0, 60522097.0, 148430908.0, 37304874.0, 19452138.0, 33345833.0, 107136417.0, 35266619.0, 119640264.0, 368065385.0, 24477704.0, 93050117.0, 61737191.0, 107518682.0, 57012977.0, 25213103.0, 54239856.0, 238679850.0, 393050114.0, 122523060.0, 46000903.0, 4167493.0], \"mode\": \"markers\", \"name\": \"movie data\", \"text\": [\"21 &amp; Over\", \"Dredd 3D\", \"12 Years a Slave\", \"2 Guns\", \"42\", \"47 Ronin\", \"A Good Day to Die Hard\", \"About Time\", \"Admission\", \"After Earth\", \"American Hustle\", \"August: Osage County\", \"Beautiful Creatures\", \"Blue Jasmine\", \"Captain Phillips\", \"Carrie\", \"Cloudy with a Chance of Meatballs 2\", \"Despicable Me 2\", \"Don Jon\", \"Elysium\", \"Ender&#39;s Game\", \"Epic\", \"Escape from Planet Earth\", \"Escape Plan\", \"Evil Dead\", \"Fast and Furious 6\", \"Frozen\", \"G.I. Joe: Retaliation\", \"Gangster Squad\", \"Gloria\"], \"xaxis\": \"x1\", \"yaxis\": \"y1\"}, {\"type\": \"scatter\", \"x\": [13000000, 45658735, 20000000, 61000000, 40000000, 225000000, 92000000, 12000000, 13000000, 130000000, 40000000, 25000000, 50000000, 18000000, 55000000, 30000000, 78000000, 76000000, 5500000, 120000000, 110000000, 100000000, 40000000, 70000000, 17000000, 160000000, 150000000, 140000000, 60000000, 30000000], \"y\": [22200000.0, 77719849.5, 34100000.0, 103800000.0, 68100000.0, 382600000.0, 156500000.0, 20500000.0, 22200000.0, 221100000.0, 68100000.0, 42600000.0, 85100000.0, 30700000.0, 93600000.0, 51100000.0, 132700000.0, 129300000.0, 9450000.0, 204100000.0, 187100000.0, 170100000.0, 68100000.0, 119100000.0, 29000000.0, 272100000.0, 255100000.0, 238100000.0, 102100000.0, 51100000.0], \"mode\": \"line\", \"name\": \"estimated revenue\", \"xaxis\": \"x1\", \"yaxis\": \"y1\"}, {\"type\": \"bar\", \"x\": [\"RSS\"], \"y\": [3.0025171100327725e+17], \"xaxis\": \"x2\", \"yaxis\": \"y2\"}], {\"xaxis1\": {\"domain\": [0.0, 0.45], \"anchor\": \"y1\"}, \"yaxis1\": {\"domain\": [0.0, 1.0], \"anchor\": \"x1\"}, \"xaxis2\": {\"domain\": [0.55, 1.0], \"anchor\": \"y2\"}, \"yaxis2\": {\"domain\": [0.0, 1.0], \"anchor\": \"x2\"}}, {\"showLink\": true, \"linkText\": \"Export to plot.ly\"})});</script>"
      ]
     },
     "metadata": {},
     "output_type": "display_data"
    }
   ],
   "source": [
    "m = 1.7\n",
    "b = 100000\n",
    "\n",
    "\n",
    "scatter_trace = trace_values(x_values, y_values, text=titles, name='movie data')\n",
    "regression_trace = m_b_trace(m, b, x_values, name='estimated revenue')\n",
    "rss_calc_trace = trace_rss(x_values, y_values, m, b)\n",
    "\n",
    "plot_regression_and_rss(scatter_trace, regression_trace, rss_calc_trace)"
   ]
  },
  {
   "cell_type": "code",
   "execution_count": null,
   "metadata": {
    "collapsed": true
   },
   "outputs": [],
   "source": []
  }
 ],
 "metadata": {
  "kernelspec": {
   "display_name": "Python 3",
   "language": "python",
   "name": "python3"
  },
  "language_info": {
   "codemirror_mode": {
    "name": "ipython",
    "version": 3
   },
   "file_extension": ".py",
   "mimetype": "text/x-python",
   "name": "python",
   "nbconvert_exporter": "python",
   "pygments_lexer": "ipython3",
   "version": "3.6.4"
  }
 },
 "nbformat": 4,
 "nbformat_minor": 2
}
